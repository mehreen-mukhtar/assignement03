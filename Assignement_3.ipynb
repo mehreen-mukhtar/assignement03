{
 "cells": [
  {
   "cell_type": "markdown",
   "id": "b404a5b8-64c3-49d5-9c85-67fb42409e1c",
   "metadata": {},
   "source": [
    "## Question no. 01"
   ]
  },
  {
   "cell_type": "code",
   "execution_count": 2,
   "id": "8d27557c-9441-4094-a58d-ac9b7550b837",
   "metadata": {},
   "outputs": [
    {
     "name": "stdout",
     "output_type": "stream",
     "text": [
      "Twinkle, twinkle, little star,\n",
      "        How I wonder what you are!\n",
      "           Up above the world so high,\n",
      "           Like a diamond in the sky.\n",
      "\n",
      "Twinkle, twinkle, little star,\n",
      "        How I wonder what you are \n"
     ]
    }
   ],
   "source": [
    "print(\"\"\"Twinkle, twinkle, little star,\n",
    "        How I wonder what you are!\n",
    "           Up above the world so high,\n",
    "           Like a diamond in the sky.\n",
    "\n",
    "Twinkle, twinkle, little star,\n",
    "        How I wonder what you are \"\"\")"
   ]
  },
  {
   "cell_type": "markdown",
   "id": "f000ca3a-a86b-4304-8650-ca931b052947",
   "metadata": {},
   "source": [
    "## Question no. 02"
   ]
  },
  {
   "cell_type": "code",
   "execution_count": 4,
   "id": "ccdfcc63-b5ca-4d6a-b296-c439528fc466",
   "metadata": {},
   "outputs": [
    {
     "name": "stdout",
     "output_type": "stream",
     "text": [
      "3.12.4\n"
     ]
    }
   ],
   "source": [
    "import platform\n",
    "print(platform.python_version())"
   ]
  },
  {
   "cell_type": "markdown",
   "id": "229d04db-bfbc-4f54-bc09-7b1be846077c",
   "metadata": {},
   "source": [
    "## Question no. 03"
   ]
  },
  {
   "cell_type": "code",
   "execution_count": 188,
   "id": "971052bb-c86a-4e9d-a66e-09d7aa8f585d",
   "metadata": {},
   "outputs": [
    {
     "name": "stdout",
     "output_type": "stream",
     "text": [
      "2024-08-02 07:29:17.554212\n"
     ]
    }
   ],
   "source": [
    "from datetime import datetime\n",
    "\n",
    "now = datetime.now()\n",
    "\n",
    "print(now)"
   ]
  },
  {
   "cell_type": "markdown",
   "id": "7b3737e3-1b03-45d5-9c03-2ed3cc575ac6",
   "metadata": {},
   "source": [
    "## Question no. 04"
   ]
  },
  {
   "cell_type": "code",
   "execution_count": 36,
   "id": "502e1097-5320-451e-b85b-21f5846b7f01",
   "metadata": {},
   "outputs": [
    {
     "name": "stdin",
     "output_type": "stream",
     "text": [
      "please enter the radius value :  23\n"
     ]
    },
    {
     "name": "stdout",
     "output_type": "stream",
     "text": [
      "1661.9\n"
     ]
    }
   ],
   "source": [
    "r = input(\"please enter the radius value : \")\n",
    "radius = int(r)\n",
    "import math\n",
    "pi =math.pi\n",
    "area =pi*(radius**2)\n",
    "print(round(area, 2))"
   ]
  },
  {
   "cell_type": "markdown",
   "id": "35827318-7142-4228-9e25-276e0072cfe6",
   "metadata": {},
   "source": [
    "## Question no. 05"
   ]
  },
  {
   "cell_type": "code",
   "execution_count": 38,
   "id": "2916c872-df35-4909-8d74-7ff2843109b7",
   "metadata": {},
   "outputs": [
    {
     "name": "stdin",
     "output_type": "stream",
     "text": [
      "Your first name :  MAHA\n",
      "Your last name :  SHEIKH\n"
     ]
    },
    {
     "name": "stdout",
     "output_type": "stream",
     "text": [
      "SHEIKH MAHA\n"
     ]
    }
   ],
   "source": [
    "### get the user first and last name\n",
    "first_name = input(\"Your first name : \")\n",
    "last_name = input(\"Your last name : \")\n",
    "print(last_name+\" \"+ first_name)"
   ]
  },
  {
   "cell_type": "markdown",
   "id": "1e743262-915f-49ac-b08d-e156648583ab",
   "metadata": {},
   "source": [
    "## Question no. 06"
   ]
  },
  {
   "cell_type": "code",
   "execution_count": 44,
   "id": "703fe7ab-b792-4753-ba3d-59bf72d63ff4",
   "metadata": {},
   "outputs": [
    {
     "name": "stdin",
     "output_type": "stream",
     "text": [
      "please enter the first value :  1\n",
      "please enter the second value :  2\n"
     ]
    },
    {
     "name": "stdout",
     "output_type": "stream",
     "text": [
      "3\n"
     ]
    }
   ],
   "source": [
    "first_value = input(\"please enter the first value : \")\n",
    "second_value = input(\"please enter the second value : \")\n",
    "fst = int(first_value)\n",
    "sec = int(second_value)\n",
    "print(fst + sec)"
   ]
  },
  {
   "cell_type": "markdown",
   "id": "747fa830-b2e7-4ab0-8911-b7873f3bd5af",
   "metadata": {},
   "source": [
    "## Question no. 07"
   ]
  },
  {
   "cell_type": "code",
   "execution_count": 26,
   "id": "6e627437-c7d0-4899-9035-5fc53b9c7111",
   "metadata": {},
   "outputs": [
    {
     "name": "stdout",
     "output_type": "stream",
     "text": [
      "enter the marks of each 5 subjects from out of 100 : \n"
     ]
    },
    {
     "name": "stdin",
     "output_type": "stream",
     "text": [
      "Please enter the marks of subject 01 :  56\n",
      "please enter the marks of subject 02 :  77\n",
      "Please enter the marks of subject 03 :  88\n",
      "please enter the marks of subject 04 :  98\n",
      "please enter the marks of subject 05 :  99\n"
     ]
    },
    {
     "name": "stdout",
     "output_type": "stream",
     "text": [
      "\n",
      "mark sheet\n",
      "==============\n",
      "marks of subject 01 :  56.0\n",
      "marks of subject 02 :  77.0\n",
      "marks of subject 03 :  88.0\n",
      "marks of subject 04 :  98.0\n",
      "marks of subject 05 :  99.0\n",
      "Grade: B\n"
     ]
    }
   ],
   "source": [
    "# Get the marks of user for 5 subjects\n",
    "print(\"enter the marks of each 5 subjects from out of 100 : \")\n",
    "subject1 = float(input(\"Please enter the marks of subject 01 : \"))\n",
    "subject2 = float(input(\"please enter the marks of subject 02 : \"))\n",
    "subject3 = float(input(\"Please enter the marks of subject 03 : \"))\n",
    "subject4 = float(input(\"please enter the marks of subject 04 : \"))\n",
    "subject5 = float(input(\"please enter the marks of subject 05 : \"))\n",
    "\n",
    "total_marks = subject1 + subject2 + subject3 + subject4 + subject5\n",
    "\n",
    "# percentage of the total marks\n",
    "percentage = ((total_marks/500)*100)  \n",
    "\n",
    "# determine the grade\n",
    "if percentage >= 90:\n",
    "   grade = \"A\"\n",
    "\n",
    "elif percentage >= 80:\n",
    "    grade = \"B\"\n",
    "\n",
    "elif percentage >= 70:\n",
    "    grade = \"C\"\n",
    "\n",
    "elif percentage >= 60:\n",
    "    grade = \"D\"\n",
    "\n",
    "elif percentage >= 60:\n",
    "    garde = \"E\"\n",
    "\n",
    "else:\n",
    "    grade = \"F\"\n",
    "\n",
    "print (\"\\nmark sheet\")\n",
    "print(\"==============\")\n",
    "print(\"marks of subject 01 : \",subject1)\n",
    "print(\"marks of subject 02 : \",subject2)\n",
    "print(\"marks of subject 03 : \",subject3)\n",
    "print(\"marks of subject 04 : \",subject4)\n",
    "print(\"marks of subject 05 : \",subject5)\n",
    "\n",
    "print(f\"Grade: {grade}\")\n"
   ]
  },
  {
   "cell_type": "markdown",
   "id": "9dc78aa3-a6d3-4b2c-b7ce-dd12e1c58291",
   "metadata": {},
   "source": [
    "## Question no. 08"
   ]
  },
  {
   "cell_type": "code",
   "execution_count": 37,
   "id": "4e0e33c4-add5-42a8-9ec0-cee1b6944dac",
   "metadata": {},
   "outputs": [
    {
     "name": "stdin",
     "output_type": "stream",
     "text": [
      "please enter the number 5\n"
     ]
    },
    {
     "name": "stdout",
     "output_type": "stream",
     "text": [
      "5 is odd.\n"
     ]
    }
   ],
   "source": [
    "# Get number from user\n",
    "num = int(input(\"please enter the number\"))\n",
    "\n",
    "# check whether the user's input is odd or even.\n",
    "if num % 2 == 0:\n",
    "          print(f\"{num} is even.\")\n",
    "else:\n",
    "     print(f\"{num} is odd.\")\n"
   ]
  },
  {
   "cell_type": "markdown",
   "id": "a13daf14-7f78-45a9-985a-ed5b08434f57",
   "metadata": {},
   "source": [
    "## Question no. 09"
   ]
  },
  {
   "cell_type": "code",
   "execution_count": 40,
   "id": "b49faefe-a85c-4ae8-be3a-067d7394e611",
   "metadata": {},
   "outputs": [
    {
     "data": {
      "text/plain": [
       "4"
      ]
     },
     "execution_count": 40,
     "metadata": {},
     "output_type": "execute_result"
    }
   ],
   "source": [
    "# list of Salaries\n",
    "salaries = [\"30k\",67000,\"40k\",\"asd\"]\n",
    "len(salaries)"
   ]
  },
  {
   "cell_type": "markdown",
   "id": "4cf64ac9-231c-47aa-901b-eb59a2518aba",
   "metadata": {},
   "source": [
    "## Question no. 10"
   ]
  },
  {
   "cell_type": "code",
   "execution_count": 53,
   "id": "f4877a63-3f6e-4a3f-a22a-7dca8f174cc9",
   "metadata": {},
   "outputs": [
    {
     "name": "stdout",
     "output_type": "stream",
     "text": [
      "17.5\n"
     ]
    }
   ],
   "source": [
    "def sum_numeric_items(first):\n",
    "   \n",
    "    numeric_list = [i for i in first if isinstance(i,(int,float))]\n",
    "   \n",
    "    return sum(numeric_list)\n",
    "\n",
    "list = [1,2,\"asc\",5,7,2.5,\"g\"]\n",
    "\n",
    "print(sum_numeric_items(list))"
   ]
  },
  {
   "cell_type": "markdown",
   "id": "4fee6524-7184-4629-8e7b-1666d1687cb5",
   "metadata": {},
   "source": [
    "## Question no. 11"
   ]
  },
  {
   "cell_type": "code",
   "execution_count": 167,
   "id": "016b940e-db48-4780-b7c0-3a5b566fd043",
   "metadata": {},
   "outputs": [
    {
     "name": "stdout",
     "output_type": "stream",
     "text": [
      "maximum value:  7\n"
     ]
    }
   ],
   "source": [
    "def max_value(items):\n",
    " \n",
    "    return max(items)\n",
    "\n",
    "list = [1,2,3,4,5,6,7]\n",
    "\n",
    "print(\"maximum value: \",max_value(list))"
   ]
  },
  {
   "cell_type": "markdown",
   "id": "97473ce4-139d-4425-b02d-46c401d72562",
   "metadata": {},
   "source": [
    "## Question no. 12"
   ]
  },
  {
   "cell_type": "code",
   "execution_count": 174,
   "id": "cf5bbaad-f9a2-4463-9f93-1a554ab7dfdf",
   "metadata": {},
   "outputs": [
    {
     "name": "stdout",
     "output_type": "stream",
     "text": [
      "1\n",
      "1\n",
      "2\n",
      "3\n"
     ]
    }
   ],
   "source": [
    "#get maximum value in a given list\n",
    "\n",
    "a = [1, 1, 2, 3, 5, 8, 13, 21, 34, 55, 89]\n",
    "\n",
    "for maxi in a:\n",
    "    if maxi < 5:\n",
    "           print ( maxi)"
   ]
  },
  {
   "cell_type": "code",
   "execution_count": null,
   "id": "f56b373c-6a80-4021-bbdb-189f08905abe",
   "metadata": {},
   "outputs": [],
   "source": [
    " "
   ]
  },
  {
   "cell_type": "code",
   "execution_count": null,
   "id": "62a11b16-083e-43b5-aae4-0af249a7c94c",
   "metadata": {},
   "outputs": [],
   "source": []
  }
 ],
 "metadata": {
  "kernelspec": {
   "display_name": "Python 3 (ipykernel)",
   "language": "python",
   "name": "python3"
  },
  "language_info": {
   "codemirror_mode": {
    "name": "ipython",
    "version": 3
   },
   "file_extension": ".py",
   "mimetype": "text/x-python",
   "name": "python",
   "nbconvert_exporter": "python",
   "pygments_lexer": "ipython3",
   "version": "3.12.4"
  }
 },
 "nbformat": 4,
 "nbformat_minor": 5
}
